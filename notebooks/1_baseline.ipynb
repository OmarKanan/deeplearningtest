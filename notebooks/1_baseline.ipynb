{
 "cells": [
  {
   "cell_type": "code",
   "execution_count": 1,
   "metadata": {
    "collapsed": true
   },
   "outputs": [],
   "source": [
    "import pickle\n",
    "import numpy as np\n",
    "import pandas as pd\n",
    "\n",
    "from collections import Counter\n",
    "\n",
    "from sklearn.metrics import f1_score, make_scorer, confusion_matrix, \\\n",
    "    classification_report\n",
    "from sklearn.base import BaseEstimator, ClassifierMixin\n",
    "from sklearn.linear_model import LogisticRegression\n",
    "from sklearn.feature_extraction.text import CountVectorizer, TfidfVectorizer\n",
    "from sklearn.naive_bayes import MultinomialNB, BernoulliNB\n",
    "from sklearn.pipeline import Pipeline\n",
    "from sklearn.model_selection import train_test_split, cross_val_score, \\\n",
    "    StratifiedShuffleSplit, RandomizedSearchCV"
   ]
  },
  {
   "cell_type": "markdown",
   "metadata": {},
   "source": [
    "# Load learn data"
   ]
  },
  {
   "cell_type": "code",
   "execution_count": 2,
   "metadata": {
    "collapsed": true
   },
   "outputs": [],
   "source": [
    "with open(\"../Data/Learn/labels.pkl\", \"rb\") as f:\n",
    "    learn_labels = pickle.load(f)\n",
    "\n",
    "with open(\"../Data/Learn/sentences.pkl\", \"rb\") as f:\n",
    "    learn_sentences = pickle.load(f)\n",
    "\n",
    "with open(\"../Data/Learn/sequences.pkl\", \"rb\") as f:\n",
    "    learn_sequences = pickle.load(f)\n",
    "\n",
    "with open(\"../Data/dict.pkl\", \"rb\") as f:\n",
    "    vocabulary = pickle.load(f)\n",
    "    reverse_vocabulary = {v: k for k, v in vocabulary.items()}"
   ]
  },
  {
   "cell_type": "markdown",
   "metadata": {},
   "source": [
    "# Data exploration"
   ]
  },
  {
   "cell_type": "code",
   "execution_count": 3,
   "metadata": {
    "collapsed": true
   },
   "outputs": [],
   "source": [
    "def decode_sequence(sequence, decoding_dict):\n",
    "    return \" \".join((decoding_dict[x] for x in sequence))"
   ]
  },
  {
   "cell_type": "code",
   "execution_count": 4,
   "metadata": {},
   "outputs": [
    {
     "name": "stdout",
     "output_type": "stream",
     "text": [
      "30432 30432\n",
      "0 30431\n"
     ]
    },
    {
     "data": {
      "text/plain": [
       "['déresponsabiliseraient',\n",
       " 'interprofessionnelles',\n",
       " 'interprofessionnalité',\n",
       " 'socioprofessionnelles',\n",
       " 'intergouvernementale']"
      ]
     },
     "execution_count": 4,
     "metadata": {},
     "output_type": "execute_result"
    }
   ],
   "source": [
    "print(len(vocabulary), len(reverse_vocabulary))\n",
    "print(min(reverse_vocabulary.keys()), max(reverse_vocabulary.keys()))\n",
    "sorted(vocabulary.keys(), key=len, reverse=True)[:5]"
   ]
  },
  {
   "cell_type": "code",
   "execution_count": 5,
   "metadata": {},
   "outputs": [
    {
     "data": {
      "text/plain": [
       "Counter({'C': 39912, 'M': 6018})"
      ]
     },
     "execution_count": 5,
     "metadata": {},
     "output_type": "execute_result"
    }
   ],
   "source": [
    "Counter(learn_labels)"
   ]
  },
  {
   "cell_type": "code",
   "execution_count": 6,
   "metadata": {},
   "outputs": [
    {
     "name": "stdout",
     "output_type": "stream",
     "text": [
      "45930\n"
     ]
    },
    {
     "data": {
      "text/plain": [
       "[\"J'aurai l'occasion de dire aux Français comment notre enseignement devra évoluer pour permettre à chaque jeune de trouver sa place, d'entrer dans le monde du travail, de savoir s'adapter et, à partir de là, d'acquérir, tout au long de la vie, de nouvelles compétences et de nouveaux savoirs.\",\n",
       " 'Il est nécessaire.',\n",
       " \"Dans votre coeur et dans votre vie, la confiance et l'enthousiasme l'emportent sur le doute.\",\n",
       " \"Pour conduire ce débat dans un esprit de véritable dialogue, je compte, si nos partenaires en sont d'accord, inviter au prochain sommet du G7, à Lyon, pour une séance de travail, le secrétaire général des Nations Unies, le président de la Banque mondiale et le directeur général du Fonds monétaire international.\",\n",
       " \"La France et l'Europe construiront ainsi un avenir de coopération avec un Proche-Orient pacifié, stable, prospère, libéré des menaces de la guerre, de la prolifération, du terrorisme.\"]"
      ]
     },
     "execution_count": 6,
     "metadata": {},
     "output_type": "execute_result"
    }
   ],
   "source": [
    "print(len(learn_sentences))\n",
    "learn_sentences[:5]"
   ]
  },
  {
   "cell_type": "code",
   "execution_count": 7,
   "metadata": {},
   "outputs": [
    {
     "name": "stdout",
     "output_type": "stream",
     "text": [
      "45930\n"
     ]
    },
    {
     "data": {
      "text/plain": [
       "[\"j' aurai l' occasion de dire aux français comment notre enseignement devra évoluer pour permettre à chaque jeune de trouver sa place , d' entrer dans le monde du travail , de savoir s' adapter et , à partir de là , d' acquérir , tout au long de la vie , de nouvelles compétences et de nouveaux savoirs .\",\n",
       " 'il est nécessaire .',\n",
       " \"dans votre coeur et dans votre vie , la confiance et l' enthousiasme l' emportent sur le doute .\",\n",
       " \"pour conduire ce débat dans un esprit de véritable dialogue , je compte , si nos partenaires en sont d' accord , inviter au prochain sommet du g7 , à lyon , pour une séance de travail , le secrétaire général des nations unies , le président de la banque mondiale et le directeur général du fonds monétaire international .\",\n",
       " \"la france et l' europe construiront ainsi un avenir de coopération avec un proche - orient pacifié , stable , prospère , libéré des menaces de la guerre , de la prolifération , du terrorisme .\"]"
      ]
     },
     "execution_count": 7,
     "metadata": {},
     "output_type": "execute_result"
    }
   ],
   "source": [
    "print(len(learn_sequences))\n",
    "[decode_sequence(x, reverse_vocabulary) for x in learn_sequences][:5]"
   ]
  },
  {
   "cell_type": "markdown",
   "metadata": {},
   "source": [
    "# Data splitting"
   ]
  },
  {
   "cell_type": "code",
   "execution_count": 8,
   "metadata": {},
   "outputs": [
    {
     "name": "stdout",
     "output_type": "stream",
     "text": [
      "32151 32151 13779 13779\n"
     ]
    },
    {
     "data": {
      "text/plain": [
       "(Counter({'C': 27938, 'M': 4213}), Counter({'C': 11974, 'M': 1805}))"
      ]
     },
     "execution_count": 8,
     "metadata": {},
     "output_type": "execute_result"
    }
   ],
   "source": [
    "X_train, X_test, y_train, y_test = train_test_split(\n",
    "    learn_sequences, learn_labels, test_size=0.3,\n",
    "    shuffle=True, stratify=learn_labels, random_state=42\n",
    ")\n",
    "print(len(X_train), len(y_train), len(X_test), len(y_test))\n",
    "Counter(y_train), Counter(y_test)"
   ]
  },
  {
   "cell_type": "markdown",
   "metadata": {},
   "source": [
    "# Utils"
   ]
  },
  {
   "cell_type": "code",
   "execution_count": 16,
   "metadata": {
    "collapsed": true
   },
   "outputs": [],
   "source": [
    "def f1(y_true, y_pred):\n",
    "    return f1_score(y_true, y_pred, average=\"macro\")\n",
    "\n",
    "scoring = make_scorer(f1)\n",
    "\n",
    "def score_model(model):\n",
    "    model.fit(X_train, y_train)\n",
    "    return scoring(model, X_test, y_test)\n",
    "\n",
    "\n",
    "def report_model(model):\n",
    "    model.fit(X_train, y_train)\n",
    "    y_pred = model.predict(X_test)\n",
    "    print(confusion_matrix(y_test, y_pred))\n",
    "    print(classification_report(y_test, y_pred, digits=3))\n",
    "\n",
    "\n",
    "def grid_search(model, param_grid, n_iter):\n",
    "    rs = RandomizedSearchCV(\n",
    "        model, param_grid, \n",
    "        n_iter=n_iter, \n",
    "        scoring=scoring,\n",
    "        cv=StratifiedShuffleSplit(10, test_size=0.3, random_state=42),\n",
    "        n_jobs=-1,\n",
    "        random_state=42,\n",
    "    )\n",
    "    rs.fit(X_train, y_train)\n",
    "    return pd.DataFrame(rs.cv_results_).sort_values(\n",
    "        \"mean_test_score\", ascending=False)\n",
    "\n",
    "\n",
    "def tokens_to_str(tokens):\n",
    "    return list(map(str, tokens))"
   ]
  },
  {
   "cell_type": "markdown",
   "metadata": {},
   "source": [
    "# Baseline models"
   ]
  },
  {
   "cell_type": "markdown",
   "metadata": {},
   "source": [
    "### Majority"
   ]
  },
  {
   "cell_type": "code",
   "execution_count": 10,
   "metadata": {
    "collapsed": true
   },
   "outputs": [],
   "source": [
    "class Model(BaseEstimator, ClassifierMixin):\n",
    "    def fit(self, X, y):\n",
    "        return self\n",
    "    def predict(self, X):\n",
    "        return np.full(len(X), 'C')"
   ]
  },
  {
   "cell_type": "code",
   "execution_count": 11,
   "metadata": {
    "scrolled": false
   },
   "outputs": [
    {
     "name": "stderr",
     "output_type": "stream",
     "text": [
      "/home/omar/anaconda3/lib/python3.6/site-packages/sklearn/metrics/classification.py:1143: UndefinedMetricWarning: F-score is ill-defined and being set to 0.0 in labels with no predicted samples.\n",
      "  'precision', 'predicted', average, warn_for)\n"
     ]
    },
    {
     "data": {
      "text/plain": [
       "'Test score: 0.46495553916048615'"
      ]
     },
     "execution_count": 11,
     "metadata": {},
     "output_type": "execute_result"
    }
   ],
   "source": [
    "\"Test score: %s\" % score_model(Model())"
   ]
  },
  {
   "cell_type": "markdown",
   "metadata": {},
   "source": [
    "### N-grams + Naive Bayes"
   ]
  },
  {
   "cell_type": "code",
   "execution_count": 17,
   "metadata": {
    "collapsed": true
   },
   "outputs": [],
   "source": [
    "Model = lambda: Pipeline([\n",
    "    (\"vectorizer\", CountVectorizer(lowercase=False, tokenizer=tokens_to_str)),\n",
    "    (\"classifier\", MultinomialNB()),\n",
    "])"
   ]
  },
  {
   "cell_type": "code",
   "execution_count": null,
   "metadata": {
    "scrolled": true
   },
   "outputs": [],
   "source": [
    "results = grid_search(Model(), {\n",
    "    \"vectorizer__ngram_range\": [(1, 1), (1, 2), (2, 2), (1, 3), (2, 3), (3, 3)],\n",
    "    \"classifier__alpha\": np.logspace(-3, 0, 10),\n",
    "}, n_iter=60)"
   ]
  },
  {
   "cell_type": "code",
   "execution_count": 107,
   "metadata": {
    "scrolled": true
   },
   "outputs": [
    {
     "name": "stdout",
     "output_type": "stream",
     "text": [
      "{'vectorizer__ngram_range': (1, 2), 'classifier__alpha': 0.1}\n"
     ]
    },
    {
     "data": {
      "text/plain": [
       "'Test score: 0.7752731066507919'"
      ]
     },
     "execution_count": 107,
     "metadata": {},
     "output_type": "execute_result"
    }
   ],
   "source": [
    "best_params = results.params.iloc[0]\n",
    "print(best_params)\n",
    "\"Test score: %s\" % score_model(Model().set_params(**best_params))"
   ]
  },
  {
   "cell_type": "code",
   "execution_count": 51,
   "metadata": {},
   "outputs": [
    {
     "name": "stdout",
     "output_type": "stream",
     "text": [
      "{'vectorizer__ngram_range': (1, 2), 'classifier__alpha': 0.1}\n",
      "[[11277   697]\n",
      " [  709  1096]]\n",
      "              precision    recall  f1-score   support\n",
      "\n",
      "           C      0.941     0.942     0.941     11974\n",
      "           M      0.611     0.607     0.609      1805\n",
      "\n",
      "   micro avg      0.898     0.898     0.898     13779\n",
      "   macro avg      0.776     0.774     0.775     13779\n",
      "weighted avg      0.898     0.898     0.898     13779\n",
      "\n"
     ]
    }
   ],
   "source": [
    "print(best_params)\n",
    "report_model(Model().set_params(**best_params))"
   ]
  },
  {
   "cell_type": "code",
   "execution_count": null,
   "metadata": {
    "collapsed": true
   },
   "outputs": [],
   "source": []
  }
 ],
 "metadata": {
  "kernelspec": {
   "display_name": "Python 3",
   "language": "python",
   "name": "python3"
  },
  "language_info": {
   "codemirror_mode": {
    "name": "ipython",
    "version": 3
   },
   "file_extension": ".py",
   "mimetype": "text/x-python",
   "name": "python",
   "nbconvert_exporter": "python",
   "pygments_lexer": "ipython3",
   "version": "3.6.1"
  }
 },
 "nbformat": 4,
 "nbformat_minor": 2
}
